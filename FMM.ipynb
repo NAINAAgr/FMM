{
  "nbformat": 4,
  "nbformat_minor": 0,
  "metadata": {
    "colab": {
      "provenance": []
    },
    "kernelspec": {
      "name": "python3",
      "display_name": "Python 3"
    },
    "language_info": {
      "name": "python"
    }
  },
  "cells": [
    {
      "cell_type": "markdown",
      "source": [
        "1) What is the difference between interpreted and compiled languages?\n",
        "   -> Interpreted languages run code line-by-line (e.g., Python), while compiled languages translate the entire code into machine code before execution (e.g., Java, C++)."
      ],
      "metadata": {
        "id": "JV7_ZMh13jnM"
      }
    },
    {
      "cell_type": "markdown",
      "source": [
        "2) What is exception handling in Python?\n",
        "  -> It’s a mechanism to catch and manage runtime errors using try, except, finally, and else blocks."
      ],
      "metadata": {
        "id": "mkR4obCt4AOn"
      }
    },
    {
      "cell_type": "markdown",
      "source": [
        "3) What is the purpose of the finally block in exception handling?\n",
        "  -> The finally block always executes, regardless of an exception, and is used for cleanup actions like closing files."
      ],
      "metadata": {
        "id": "5auEatvV4IrM"
      }
    },
    {
      "cell_type": "markdown",
      "source": [
        "4) What is logging in Python?\n",
        "  -> Logging is the process of recording program execution details, errors, and events using Python’s logging module."
      ],
      "metadata": {
        "id": "AMK6O2Jh4SZ6"
      }
    },
    {
      "cell_type": "markdown",
      "source": [
        "5) What is the significance of the __del__ method in Python?\n",
        "   -> It’s a destructor method called when an object is deleted to clean up resources like open files or network connections."
      ],
      "metadata": {
        "id": "zf0a5U3i4ZzC"
      }
    },
    {
      "cell_type": "markdown",
      "source": [
        "6) What is the difference between import and from ... import in Python?\n",
        "   -> import module imports the full module, while from module import name imports only specific parts."
      ],
      "metadata": {
        "id": "Vu0NauaW4iYn"
      }
    },
    {
      "cell_type": "markdown",
      "source": [
        "7) How can you handle multiple exceptions in Python?\n",
        "  -> Use multiple except blocks or a single block with a tuple of exceptions:"
      ],
      "metadata": {
        "id": "qPakbdu54siG"
      }
    },
    {
      "cell_type": "markdown",
      "source": [
        "8) What is the purpose of the with statement when handling files in Python?\n",
        "  -> It ensures proper opening and closing of files automatically, even if exceptions occur."
      ],
      "metadata": {
        "id": "ttATwqoQ416M"
      }
    },
    {
      "cell_type": "markdown",
      "source": [
        "9) What is the difference between multithreading and multiprocessing?\n",
        "   -> Multithreading runs multiple threads in the same process; multiprocessing runs separate processes. The latter avoids GIL limitations in Python."
      ],
      "metadata": {
        "id": "C3Mw_4zT49Ne"
      }
    },
    {
      "cell_type": "markdown",
      "source": [
        "10) What are the advantages of using logging in a program?\n",
        "   -> It helps in tracking errors, debugging, auditing, and maintaining logs for system analysis."
      ],
      "metadata": {
        "id": "HTVKHHOp5vwm"
      }
    },
    {
      "cell_type": "markdown",
      "source": [
        "11) What is memory management in Python?\n",
        "  -> It’s how Python allocates and frees memory using reference counting and garbage collection."
      ],
      "metadata": {
        "id": "NIN3YJG-561Z"
      }
    },
    {
      "cell_type": "markdown",
      "source": [
        "12) What are the basic steps involved in exception handling in Python?\n",
        "   -> Use try to wrap risky code, except to handle errors, else to run if no exception, and finally for cleanup."
      ],
      "metadata": {
        "id": "nsBi5dzp6AtC"
      }
    },
    {
      "cell_type": "markdown",
      "source": [
        "13) Why is memory management important in Python?\n",
        "  -> Efficient memory management prevents memory leaks and ensures optimal program performance."
      ],
      "metadata": {
        "id": "toOIasJ96I2m"
      }
    },
    {
      "cell_type": "markdown",
      "source": [
        "14) What is the role of try and except in exception handling?\n",
        "   -> try block contains code that might throw an error. except block handles the error if it occurs."
      ],
      "metadata": {
        "id": "XfjSotO66Qty"
      }
    },
    {
      "cell_type": "markdown",
      "source": [
        "15) How does Python's garbage collection system work?\n",
        "  -> It uses reference counting and a cyclic garbage collector to automatically free unused memory."
      ],
      "metadata": {
        "id": "Fqgp9Oj76aZ3"
      }
    },
    {
      "cell_type": "markdown",
      "source": [
        "16) What is the purpose of the else block in exception handling?\n",
        "  -> It runs if no exception occurs in the try block."
      ],
      "metadata": {
        "id": "1WsHAfvU6jYf"
      }
    },
    {
      "cell_type": "markdown",
      "source": [
        "17) What are the common logging levels in Python?\n",
        "   -> DEBUG, INFO, WARNING, ERROR, CRITICAL."
      ],
      "metadata": {
        "id": "hTBk774d6phU"
      }
    },
    {
      "cell_type": "markdown",
      "source": [
        "18) What is the difference between os.fork() and multiprocessing in Python?\n",
        "   -> os.fork() is Unix-specific and duplicates the process. multiprocessing is a cross-platform API for parallel processing."
      ],
      "metadata": {
        "id": "S_uXBWUx6wJr"
      }
    },
    {
      "cell_type": "markdown",
      "source": [
        "19)What is the importance of closing a file in Python?\n",
        "  -> It frees up system resources and ensures data is properly written to disk."
      ],
      "metadata": {
        "id": "65-ha3nC64Va"
      }
    },
    {
      "cell_type": "markdown",
      "source": [
        "20) What is the difference between file.read() and file.readline() in Python?\n",
        "   -> read() reads the entire file; readline() reads one line at a time."
      ],
      "metadata": {
        "id": "WJnR8E1x7AQ5"
      }
    },
    {
      "cell_type": "markdown",
      "source": [
        "21) What is the logging module in Python used for?\n",
        "  -> To generate logs for applications, including error messages, info, warnings, and debugging info."
      ],
      "metadata": {
        "id": "sKMZnI6X7Iie"
      }
    },
    {
      "cell_type": "markdown",
      "source": [
        "22) What is the os module in Python used for in file handling?\n",
        "  -> It provides functions to interact with the operating system like file path operations, file removal, etc."
      ],
      "metadata": {
        "id": "XYKi6FKJ7Olf"
      }
    },
    {
      "cell_type": "markdown",
      "source": [
        "23) What are the challenges associated with memory management in Python?\n",
        "   -> Circular references, memory leaks, and handling large datasets efficiently."
      ],
      "metadata": {
        "id": "xr6SChB67Wte"
      }
    },
    {
      "cell_type": "markdown",
      "source": [
        "24) How do you raise an exception manually in Python?\n",
        "   -> Use the raise keyword:\n",
        "raise ValueError(\"Invalid value\")\n"
      ],
      "metadata": {
        "id": "S3Vjz_EX7eiO"
      }
    },
    {
      "cell_type": "markdown",
      "source": [
        "25) Why is it important to use multithreading in certain applications?\n",
        "  -> To handle I/O-bound tasks concurrently and improve responsiveness of programs.\n",
        "\n"
      ],
      "metadata": {
        "id": "mWV93Q307o0e"
      }
    },
    {
      "cell_type": "code",
      "source": [
        "# 1) How can you open a file for writing in Python and write a string to it.\n",
        "with open('file.txt', 'w') as f:\n",
        "    f.write(\"Hello, world!\")\n"
      ],
      "metadata": {
        "id": "97flYyQr7xiO"
      },
      "execution_count": 1,
      "outputs": []
    },
    {
      "cell_type": "code",
      "source": [
        "# 2) Write a Python program to read the contents of a file and print each line.\n",
        "with open('file.txt', 'r') as f:\n",
        "    for line in f:\n",
        "        print(line.strip())\n"
      ],
      "metadata": {
        "colab": {
          "base_uri": "https://localhost:8080/"
        },
        "id": "d8havBTl8FJK",
        "outputId": "6ea0357f-7159-4269-8489-bcb26b3b8b33"
      },
      "execution_count": 2,
      "outputs": [
        {
          "output_type": "stream",
          "name": "stdout",
          "text": [
            "Hello, world!\n"
          ]
        }
      ]
    },
    {
      "cell_type": "code",
      "source": [
        "# 3) How would you handle a case where the file doesn't exist while trying to open it for reading.\n",
        "try:\n",
        "    with open('nofile.txt', 'r') as f:\n",
        "        content = f.read()\n",
        "except FileNotFoundError:\n",
        "    print(\"File not found!\")\n"
      ],
      "metadata": {
        "colab": {
          "base_uri": "https://localhost:8080/"
        },
        "id": "n9AigDoE8Qzt",
        "outputId": "29ac5576-275b-46bc-ca3e-349f4105a3d9"
      },
      "execution_count": 3,
      "outputs": [
        {
          "output_type": "stream",
          "name": "stdout",
          "text": [
            "File not found!\n"
          ]
        }
      ]
    },
    {
      "cell_type": "code",
      "source": [
        "# 4) Write a Python script that reads from one file and writes its content to another file.\n",
        "with open('file.txt', 'r') as f1, open('Functions.ipynb', 'w') as f2:\n",
        "    f2.write(f1.read())"
      ],
      "metadata": {
        "id": "8K4RohZB8bqG"
      },
      "execution_count": 10,
      "outputs": []
    },
    {
      "cell_type": "code",
      "source": [
        "# 5) How would you catch and handle division by zero error in Python?\n",
        "try:\n",
        "    result = 10 / 0\n",
        "except ZeroDivisionError:\n",
        "    print(\"Cannot divide by zero.\")\n"
      ],
      "metadata": {
        "colab": {
          "base_uri": "https://localhost:8080/"
        },
        "id": "Hd7J9EMo9UP_",
        "outputId": "cfd690d1-0e96-4070-86ae-e8d5349798ab"
      },
      "execution_count": 11,
      "outputs": [
        {
          "output_type": "stream",
          "name": "stdout",
          "text": [
            "Cannot divide by zero.\n"
          ]
        }
      ]
    },
    {
      "cell_type": "code",
      "source": [
        "# 6) Write a Python program that logs an error message to a log file when a division by zero exception occurs.\n",
        "import logging\n",
        "logging.basicConfig(filename='app.log', level=logging.ERROR)\n",
        "try:\n",
        "    result = 10 / 0\n",
        "except ZeroDivisionError as e:\n",
        "    logging.error(\"Error occurred: %s\", e)\n"
      ],
      "metadata": {
        "colab": {
          "base_uri": "https://localhost:8080/"
        },
        "id": "IuMuPWZ29xnr",
        "outputId": "34c3cdf8-9fcf-45b4-93ac-36557f3333c2"
      },
      "execution_count": 12,
      "outputs": [
        {
          "output_type": "stream",
          "name": "stderr",
          "text": [
            "ERROR:root:Error occurred: division by zero\n"
          ]
        }
      ]
    },
    {
      "cell_type": "code",
      "source": [
        "# 7) How do you log information at different levels (INFO, ERROR, WARNING) in Python using the logging module.\n",
        "logging.info(\"This is info\")\n",
        "logging.warning(\"This is warning\")\n",
        "logging.error(\"This is error\")\n"
      ],
      "metadata": {
        "colab": {
          "base_uri": "https://localhost:8080/"
        },
        "id": "2PXOlDzB97xZ",
        "outputId": "1710f82c-d52e-443d-82b7-f3a90ccd886a"
      },
      "execution_count": 13,
      "outputs": [
        {
          "output_type": "stream",
          "name": "stderr",
          "text": [
            "WARNING:root:This is warning\n",
            "ERROR:root:This is error\n"
          ]
        }
      ]
    },
    {
      "cell_type": "code",
      "source": [
        "# 8) Write a program to handle a file opening error using exception handling.\n",
        "try:\n",
        "    with open('somefile.txt') as f:\n",
        "        print(f.read())\n",
        "except IOError:\n",
        "    print(\"File error!\")\n"
      ],
      "metadata": {
        "colab": {
          "base_uri": "https://localhost:8080/"
        },
        "id": "_GyxfRVf-I2v",
        "outputId": "080477fb-06a3-44fe-fb90-4bf19cf1dc56"
      },
      "execution_count": 14,
      "outputs": [
        {
          "output_type": "stream",
          "name": "stdout",
          "text": [
            "File error!\n"
          ]
        }
      ]
    },
    {
      "cell_type": "code",
      "source": [
        "# 9) How can you read a file line by line and store its content in a list in Python.\n",
        "with open('file.txt') as f:\n",
        "    lines = f.readlines()\n"
      ],
      "metadata": {
        "id": "Fp4qoNfk-R_j"
      },
      "execution_count": 15,
      "outputs": []
    },
    {
      "cell_type": "code",
      "source": [
        "# 10) How can you append data to an existing file in Python.\n",
        "with open('file.txt', 'a') as f:\n",
        "    f.write(\"Additional line\\n\")\n"
      ],
      "metadata": {
        "id": "LzdtwkWC-bOv"
      },
      "execution_count": 16,
      "outputs": []
    },
    {
      "cell_type": "code",
      "source": [
        "# 11) Write a Python program that uses a try-except block to handle an error when attempting to access a dictionary key that doesn't exist.\n",
        "try:\n",
        "    d = {\"a\": 1}\n",
        "    print(d[\"b\"])\n",
        "except KeyError:\n",
        "    print(\"Key not found.\")\n"
      ],
      "metadata": {
        "colab": {
          "base_uri": "https://localhost:8080/"
        },
        "id": "YgtwFRzr-jWn",
        "outputId": "a1bf59c8-0f2c-4069-8371-1718dce0faf2"
      },
      "execution_count": 17,
      "outputs": [
        {
          "output_type": "stream",
          "name": "stdout",
          "text": [
            "Key not found.\n"
          ]
        }
      ]
    },
    {
      "cell_type": "code",
      "source": [
        "# 12) Write a program that demonstrates using multiple except blocks to handle different types of exceptions.\n",
        "try:\n",
        "    a = int(\"abc\")\n",
        "except ValueError:\n",
        "    print(\"Value Error\")\n",
        "except TypeError:\n",
        "    print(\"Type Error\")\n"
      ],
      "metadata": {
        "colab": {
          "base_uri": "https://localhost:8080/"
        },
        "id": "JQgSgByG-s8Z",
        "outputId": "1c667d58-15e3-4bff-ff9f-853d8659146b"
      },
      "execution_count": 18,
      "outputs": [
        {
          "output_type": "stream",
          "name": "stdout",
          "text": [
            "Value Error\n"
          ]
        }
      ]
    },
    {
      "cell_type": "code",
      "source": [
        "# 13) How would you check if a file exists before attempting to read it in Python.\n",
        "import os\n",
        "if os.path.exists(\"file.txt\"):\n",
        "    print(\"Exists\")\n",
        "else:\n",
        "    print(\"Not found\")\n"
      ],
      "metadata": {
        "colab": {
          "base_uri": "https://localhost:8080/"
        },
        "id": "jwIu1OGf-3RA",
        "outputId": "1c69d3df-2ea3-42d7-e0b8-ed40e70f8e83"
      },
      "execution_count": 19,
      "outputs": [
        {
          "output_type": "stream",
          "name": "stdout",
          "text": [
            "Exists\n"
          ]
        }
      ]
    },
    {
      "cell_type": "code",
      "source": [
        "# 14) Write a program that uses the logging module to log both informational and error messages.\n",
        "logging.basicConfig(filename='logfile.log', level=logging.DEBUG)\n",
        "logging.info(\"Program started\")\n",
        "logging.error(\"Something went wrong\")\n"
      ],
      "metadata": {
        "colab": {
          "base_uri": "https://localhost:8080/"
        },
        "id": "MSqKDeNL_DDd",
        "outputId": "42fd0e74-0368-41af-d3f8-005d80153ca2"
      },
      "execution_count": 20,
      "outputs": [
        {
          "output_type": "stream",
          "name": "stderr",
          "text": [
            "ERROR:root:Something went wrong\n"
          ]
        }
      ]
    },
    {
      "cell_type": "code",
      "source": [
        "# 15) Write a Python program that prints the content of a file and handles the case when the file is empty.\n",
        "with open('file.txt', 'r') as f:\n",
        "    content = f.read()\n",
        "    if content:\n",
        "        print(content)\n",
        "    else:\n",
        "        print(\"File is empty.\")\n"
      ],
      "metadata": {
        "colab": {
          "base_uri": "https://localhost:8080/"
        },
        "id": "pv_Wnqnl_OKW",
        "outputId": "1f30eb6b-4880-4ffb-a41f-7f8778663ff4"
      },
      "execution_count": 21,
      "outputs": [
        {
          "output_type": "stream",
          "name": "stdout",
          "text": [
            "Hello, world!Additional line\n",
            "\n"
          ]
        }
      ]
    },
    {
      "cell_type": "code",
      "source": [
        "# 16) Demonstrate how to use memory profiling to check the memory usage of a small program.\n",
        "from memory_profiler import profile\n",
        "\n",
        "@profile\n",
        "def my_func():\n",
        "    a = [i for i in range(10000)]\n",
        "    return sum(a)\n",
        "\n",
        "my_func()\n"
      ],
      "metadata": {
        "colab": {
          "base_uri": "https://localhost:8080/"
        },
        "collapsed": true,
        "id": "8gutHfFT_YGC",
        "outputId": "9da82647-adf7-4589-b088-4562d2a8ad03"
      },
      "execution_count": 24,
      "outputs": [
        {
          "output_type": "stream",
          "name": "stderr",
          "text": [
            "\n",
            "PYDEV DEBUGGER WARNING:\n",
            "sys.settrace() should not be used when the debugger is being used.\n",
            "This may cause the debugger to stop working correctly.\n",
            "If this is needed, please check: \n",
            "http://pydev.blogspot.com/2007/06/why-cant-pydev-debugger-work-with.html\n",
            "to see how to restore the debug tracing back correctly.\n",
            "Call Location:\n",
            "  File \"/usr/local/lib/python3.11/dist-packages/memory_profiler.py\", line 847, in enable\n",
            "    sys.settrace(self.trace_memory_usage)\n",
            "\n",
            "\n",
            "PYDEV DEBUGGER WARNING:\n",
            "sys.settrace() should not be used when the debugger is being used.\n",
            "This may cause the debugger to stop working correctly.\n",
            "If this is needed, please check: \n",
            "http://pydev.blogspot.com/2007/06/why-cant-pydev-debugger-work-with.html\n",
            "to see how to restore the debug tracing back correctly.\n",
            "Call Location:\n",
            "  File \"/usr/local/lib/python3.11/dist-packages/memory_profiler.py\", line 850, in disable\n",
            "    sys.settrace(self._original_trace_function)\n",
            "\n"
          ]
        },
        {
          "output_type": "stream",
          "name": "stdout",
          "text": [
            "ERROR: Could not find file /tmp/ipython-input-24-648501248.py\n"
          ]
        },
        {
          "output_type": "execute_result",
          "data": {
            "text/plain": [
              "49995000"
            ]
          },
          "metadata": {},
          "execution_count": 24
        }
      ]
    },
    {
      "cell_type": "code",
      "source": [
        "# 17) Write a Python program to create and write a list of numbers to a file, one number per line.\n",
        "numbers = [1, 2, 3, 4]\n",
        "with open('nums.txt', 'w') as f:\n",
        "    for num in numbers:\n",
        "        f.write(f\"{num}\\n\")\n"
      ],
      "metadata": {
        "id": "-JL1wl5R_6rz"
      },
      "execution_count": 25,
      "outputs": []
    },
    {
      "cell_type": "code",
      "source": [
        "# 18) How would you implement a basic logging setup that logs to a file with rotation after 1MB?\n",
        "from logging.handlers import RotatingFileHandler\n",
        "\n",
        "handler = RotatingFileHandler(\"app.log\", maxBytes=1024*1024, backupCount=3)\n",
        "logging.basicConfig(handlers=[handler], level=logging.INFO)\n",
        "logging.info(\"Rotating log\")\n"
      ],
      "metadata": {
        "id": "6VFVfYQcAFet"
      },
      "execution_count": 26,
      "outputs": []
    },
    {
      "cell_type": "code",
      "source": [
        "# 19) Write a program that handles both IndexError and KeyError using a try-except block.\n",
        "try:\n",
        "    l = [1, 2]\n",
        "    print(l[5])\n",
        "except IndexError:\n",
        "    print(\"Index error\")\n",
        "try:\n",
        "    d = {}\n",
        "    print(d[\"key\"])\n",
        "except KeyError:\n",
        "    print(\"Key error\")\n"
      ],
      "metadata": {
        "colab": {
          "base_uri": "https://localhost:8080/"
        },
        "id": "Hexrzkj4AP2F",
        "outputId": "471a093f-9f77-48c1-dd33-fe672e6f8582"
      },
      "execution_count": 27,
      "outputs": [
        {
          "output_type": "stream",
          "name": "stdout",
          "text": [
            "Index error\n",
            "Key error\n"
          ]
        }
      ]
    },
    {
      "cell_type": "code",
      "source": [
        "# 20) How would you open a file and read its contents using a context manager in Python?\n",
        "with open('file.txt', 'r') as f:\n",
        "    print(f.read())\n"
      ],
      "metadata": {
        "colab": {
          "base_uri": "https://localhost:8080/"
        },
        "id": "_-fAgyfrAZH1",
        "outputId": "2f1eb753-7873-46ac-a0c4-7076e9a72973"
      },
      "execution_count": 28,
      "outputs": [
        {
          "output_type": "stream",
          "name": "stdout",
          "text": [
            "Hello, world!Additional line\n",
            "\n"
          ]
        }
      ]
    },
    {
      "cell_type": "code",
      "source": [
        "# 21) Write a Python program that reads a file and prints the number of occurrences of a specific word.\n",
        "word = \"Python\"\n",
        "with open('file.txt') as f:\n",
        "    content = f.read()\n",
        "    print(content.count(word))\n"
      ],
      "metadata": {
        "colab": {
          "base_uri": "https://localhost:8080/"
        },
        "id": "MIZGlXvUAiNR",
        "outputId": "b3eada4a-0cae-40a8-bd4f-5028e2eab1ff"
      },
      "execution_count": 29,
      "outputs": [
        {
          "output_type": "stream",
          "name": "stdout",
          "text": [
            "0\n"
          ]
        }
      ]
    },
    {
      "cell_type": "code",
      "source": [
        "# 22) How can you check if a file is empty before attempting to read its contents?\n",
        "import os\n",
        "if os.path.getsize(\"file.txt\") == 0:\n",
        "    print(\"Empty file\")\n"
      ],
      "metadata": {
        "id": "gyZDN11uAqvg"
      },
      "execution_count": 30,
      "outputs": []
    },
    {
      "cell_type": "code",
      "source": [
        "# 23) Write a Python program that writes to a log file when an error occurs during file handling.\n",
        "try:\n",
        "    with open(\"nofile.txt\") as f:\n",
        "        pass\n",
        "except Exception as e:\n",
        "    logging.error(\"File handling error: %s\", e)\n"
      ],
      "metadata": {
        "colab": {
          "base_uri": "https://localhost:8080/"
        },
        "id": "m1lrP6eAA1Rl",
        "outputId": "4610b9be-8b6d-43b6-995c-6d1330c9b063"
      },
      "execution_count": 31,
      "outputs": [
        {
          "output_type": "stream",
          "name": "stderr",
          "text": [
            "ERROR:root:File handling error: [Errno 2] No such file or directory: 'nofile.txt'\n"
          ]
        }
      ]
    }
  ]
}